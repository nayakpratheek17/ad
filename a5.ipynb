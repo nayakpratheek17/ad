{
 "cells": [
  {
   "cell_type": "code",
   "execution_count": 1,
   "id": "540fbc22",
   "metadata": {},
   "outputs": [],
   "source": [
    "import pandas as pd\n",
    "import matplotlib.pyplot as plt"
   ]
  },
  {
   "cell_type": "code",
   "execution_count": 2,
   "id": "3a442efc",
   "metadata": {},
   "outputs": [
    {
     "data": {
      "text/html": [
       "<div>\n",
       "<style scoped>\n",
       "    .dataframe tbody tr th:only-of-type {\n",
       "        vertical-align: middle;\n",
       "    }\n",
       "\n",
       "    .dataframe tbody tr th {\n",
       "        vertical-align: top;\n",
       "    }\n",
       "\n",
       "    .dataframe thead th {\n",
       "        text-align: right;\n",
       "    }\n",
       "</style>\n",
       "<table border=\"1\" class=\"dataframe\">\n",
       "  <thead>\n",
       "    <tr style=\"text-align: right;\">\n",
       "      <th></th>\n",
       "      <th>Hours</th>\n",
       "      <th>Scores</th>\n",
       "    </tr>\n",
       "  </thead>\n",
       "  <tbody>\n",
       "    <tr>\n",
       "      <th>0</th>\n",
       "      <td>2</td>\n",
       "      <td>13</td>\n",
       "    </tr>\n",
       "    <tr>\n",
       "      <th>1</th>\n",
       "      <td>2</td>\n",
       "      <td>20</td>\n",
       "    </tr>\n",
       "    <tr>\n",
       "      <th>2</th>\n",
       "      <td>3</td>\n",
       "      <td>23</td>\n",
       "    </tr>\n",
       "    <tr>\n",
       "      <th>3</th>\n",
       "      <td>5</td>\n",
       "      <td>43</td>\n",
       "    </tr>\n",
       "    <tr>\n",
       "      <th>4</th>\n",
       "      <td>6</td>\n",
       "      <td>34</td>\n",
       "    </tr>\n",
       "    <tr>\n",
       "      <th>5</th>\n",
       "      <td>7</td>\n",
       "      <td>36</td>\n",
       "    </tr>\n",
       "    <tr>\n",
       "      <th>6</th>\n",
       "      <td>8</td>\n",
       "      <td>42</td>\n",
       "    </tr>\n",
       "    <tr>\n",
       "      <th>7</th>\n",
       "      <td>3</td>\n",
       "      <td>44</td>\n",
       "    </tr>\n",
       "    <tr>\n",
       "      <th>8</th>\n",
       "      <td>7</td>\n",
       "      <td>53</td>\n",
       "    </tr>\n",
       "    <tr>\n",
       "      <th>9</th>\n",
       "      <td>9</td>\n",
       "      <td>32</td>\n",
       "    </tr>\n",
       "  </tbody>\n",
       "</table>\n",
       "</div>"
      ],
      "text/plain": [
       "   Hours  Scores\n",
       "0      2      13\n",
       "1      2      20\n",
       "2      3      23\n",
       "3      5      43\n",
       "4      6      34\n",
       "5      7      36\n",
       "6      8      42\n",
       "7      3      44\n",
       "8      7      53\n",
       "9      9      32"
      ]
     },
     "execution_count": 2,
     "metadata": {},
     "output_type": "execute_result"
    }
   ],
   "source": [
    "df = pd.read_csv('/home/nayak_pratheek17/Documents/A5.csv')\n",
    "df"
   ]
  },
  {
   "cell_type": "code",
   "execution_count": 3,
   "id": "3ff7dcd8",
   "metadata": {},
   "outputs": [
    {
     "data": {
      "image/png": "[encoded data removed]",
      "text/plain": [
       "<Figure size 432x288 with 1 Axes>"
      ]
     },
     "metadata": {
      "needs_background": "light"
     },
     "output_type": "display_data"
    }
   ],
   "source": [
    "df.plot(x = \"Hours\", y = \"Scores\", style = \"o\")\n",
    "plt.show()"
   ]
  },
  {
   "cell_type": "code",
   "execution_count": 4,
   "id": "89ba3bb3",
   "metadata": {},
   "outputs": [
    {
     "name": "stdout",
     "output_type": "stream",
     "text": [
      "5.2 34.0\n"
     ]
    }
   ],
   "source": [
    "x_mean = df[\"Hours\"].mean()\n",
    "y_mean = df[\"Scores\"].mean()\n",
    "print(x_mean, y_mean)"
   ]
  },
  {
   "cell_type": "code",
   "execution_count": 6,
   "id": "ed13f4c8",
   "metadata": {},
   "outputs": [
    {
     "data": {
      "text/html": [
       "<div>\n",
       "<style scoped>\n",
       "    .dataframe tbody tr th:only-of-type {\n",
       "        vertical-align: middle;\n",
       "    }\n",
       "\n",
       "    .dataframe tbody tr th {\n",
       "        vertical-align: top;\n",
       "    }\n",
       "\n",
       "    .dataframe thead th {\n",
       "        text-align: right;\n",
       "    }\n",
       "</style>\n",
       "<table border=\"1\" class=\"dataframe\">\n",
       "  <thead>\n",
       "    <tr style=\"text-align: right;\">\n",
       "      <th></th>\n",
       "      <th>Hours</th>\n",
       "      <th>Scores</th>\n",
       "      <th>x</th>\n",
       "      <th>y</th>\n",
       "      <th>x*y</th>\n",
       "      <th>x^2</th>\n",
       "      <th>y^2</th>\n",
       "    </tr>\n",
       "  </thead>\n",
       "  <tbody>\n",
       "    <tr>\n",
       "      <th>0</th>\n",
       "      <td>2</td>\n",
       "      <td>13</td>\n",
       "      <td>-3.2</td>\n",
       "      <td>-21.0</td>\n",
       "      <td>67.2</td>\n",
       "      <td>10.24</td>\n",
       "      <td>441.0</td>\n",
       "    </tr>\n",
       "    <tr>\n",
       "      <th>1</th>\n",
       "      <td>2</td>\n",
       "      <td>20</td>\n",
       "      <td>-3.2</td>\n",
       "      <td>-14.0</td>\n",
       "      <td>44.8</td>\n",
       "      <td>10.24</td>\n",
       "      <td>196.0</td>\n",
       "    </tr>\n",
       "    <tr>\n",
       "      <th>2</th>\n",
       "      <td>3</td>\n",
       "      <td>23</td>\n",
       "      <td>-2.2</td>\n",
       "      <td>-11.0</td>\n",
       "      <td>24.2</td>\n",
       "      <td>4.84</td>\n",
       "      <td>121.0</td>\n",
       "    </tr>\n",
       "    <tr>\n",
       "      <th>3</th>\n",
       "      <td>5</td>\n",
       "      <td>43</td>\n",
       "      <td>-0.2</td>\n",
       "      <td>9.0</td>\n",
       "      <td>-1.8</td>\n",
       "      <td>0.04</td>\n",
       "      <td>81.0</td>\n",
       "    </tr>\n",
       "    <tr>\n",
       "      <th>4</th>\n",
       "      <td>6</td>\n",
       "      <td>34</td>\n",
       "      <td>0.8</td>\n",
       "      <td>0.0</td>\n",
       "      <td>0.0</td>\n",
       "      <td>0.64</td>\n",
       "      <td>0.0</td>\n",
       "    </tr>\n",
       "    <tr>\n",
       "      <th>5</th>\n",
       "      <td>7</td>\n",
       "      <td>36</td>\n",
       "      <td>1.8</td>\n",
       "      <td>2.0</td>\n",
       "      <td>3.6</td>\n",
       "      <td>3.24</td>\n",
       "      <td>4.0</td>\n",
       "    </tr>\n",
       "    <tr>\n",
       "      <th>6</th>\n",
       "      <td>8</td>\n",
       "      <td>42</td>\n",
       "      <td>2.8</td>\n",
       "      <td>8.0</td>\n",
       "      <td>22.4</td>\n",
       "      <td>7.84</td>\n",
       "      <td>64.0</td>\n",
       "    </tr>\n",
       "    <tr>\n",
       "      <th>7</th>\n",
       "      <td>3</td>\n",
       "      <td>44</td>\n",
       "      <td>-2.2</td>\n",
       "      <td>10.0</td>\n",
       "      <td>-22.0</td>\n",
       "      <td>4.84</td>\n",
       "      <td>100.0</td>\n",
       "    </tr>\n",
       "    <tr>\n",
       "      <th>8</th>\n",
       "      <td>7</td>\n",
       "      <td>53</td>\n",
       "      <td>1.8</td>\n",
       "      <td>19.0</td>\n",
       "      <td>34.2</td>\n",
       "      <td>3.24</td>\n",
       "      <td>361.0</td>\n",
       "    </tr>\n",
       "    <tr>\n",
       "      <th>9</th>\n",
       "      <td>9</td>\n",
       "      <td>32</td>\n",
       "      <td>3.8</td>\n",
       "      <td>-2.0</td>\n",
       "      <td>-7.6</td>\n",
       "      <td>14.44</td>\n",
       "      <td>4.0</td>\n",
       "    </tr>\n",
       "  </tbody>\n",
       "</table>\n",
       "</div>"
      ],
      "text/plain": [
       "   Hours  Scores    x     y   x*y    x^2    y^2\n",
       "0      2      13 -3.2 -21.0  67.2  10.24  441.0\n",
       "1      2      20 -3.2 -14.0  44.8  10.24  196.0\n",
       "2      3      23 -2.2 -11.0  24.2   4.84  121.0\n",
       "3      5      43 -0.2   9.0  -1.8   0.04   81.0\n",
       "4      6      34  0.8   0.0   0.0   0.64    0.0\n",
       "5      7      36  1.8   2.0   3.6   3.24    4.0\n",
       "6      8      42  2.8   8.0  22.4   7.84   64.0\n",
       "7      3      44 -2.2  10.0 -22.0   4.84  100.0\n",
       "8      7      53  1.8  19.0  34.2   3.24  361.0\n",
       "9      9      32  3.8  -2.0  -7.6  14.44    4.0"
      ]
     },
     "execution_count": 6,
     "metadata": {},
     "output_type": "execute_result"
    }
   ],
   "source": [
    "df[\"x\"] = df[\"Hours\"] - x_mean\n",
    "df[\"y\"] = df[\"Scores\"] - y_mean\n",
    "df[\"x*y\"] = df[\"x\"] * df[\"y\"]\n",
    "df[\"x^2\"] = df[\"x\"] ** 2\n",
    "df[\"y^2\"] = df[\"y\"] ** 2\n",
    "df"
   ]
  },
  {
   "cell_type": "code",
   "execution_count": 8,
   "id": "24691a91",
   "metadata": {},
   "outputs": [],
   "source": [
    "summation_xy = df[\"x*y\"].sum()\n",
    "summation_xsquared = df[\"x^2\"].sum()\n",
    "summation_ysquared = df[\"y^2\"].sum()"
   ]
  },
  {
   "cell_type": "code",
   "execution_count": 9,
   "id": "9dbe5ccc",
   "metadata": {},
   "outputs": [
    {
     "data": {
      "text/plain": [
       "(165.0, 59.6, 1372.0)"
      ]
     },
     "execution_count": 9,
     "metadata": {},
     "output_type": "execute_result"
    }
   ],
   "source": [
    "summation_xy, summation_xsquared, summation_ysquared"
   ]
  },
  {
   "cell_type": "code",
   "execution_count": 10,
   "id": "eec7e9cb",
   "metadata": {},
   "outputs": [
    {
     "data": {
      "text/plain": [
       "0.577010556424687"
      ]
     },
     "execution_count": 10,
     "metadata": {},
     "output_type": "execute_result"
    }
   ],
   "source": [
    "correlation = summation_xy / (summation_xsquared * summation_ysquared) ** 0.5\n",
    "correlation"
   ]
  },
  {
   "cell_type": "code",
   "execution_count": 11,
   "id": "1ef5817f",
   "metadata": {},
   "outputs": [],
   "source": [
    "def getMean(numbers):\n",
    "    if len(numbers) == 0:\n",
    "        return None\n",
    "    else:\n",
    "        current_sum = 0\n",
    "        for i in numbers:\n",
    "            current_sum += i\n",
    "            current_avg = current_sum / len(numbers)\n",
    "        return current_avg\n",
    "\n"
   ]
  },
  {
   "cell_type": "code",
   "execution_count": 12,
   "id": "534a63cb",
   "metadata": {},
   "outputs": [],
   "source": [
    "def getStdDev(numbers):\n",
    "    if(len(numbers) == 0):\n",
    "        return 0\n",
    "    else:\n",
    "        mean = getMean(numbers)\n",
    "        stdDev = 0\n",
    "        for i in numbers:\n",
    "            stdDev += (i - mean) ** 2\n",
    "        return (stdDev/len(numbers)) ** 0.5"
   ]
  },
  {
   "cell_type": "code",
   "execution_count": 14,
   "id": "512c49a4",
   "metadata": {},
   "outputs": [
    {
     "name": "stdout",
     "output_type": "stream",
     "text": [
      "2.4413111231467406 11.713240371477058\n"
     ]
    }
   ],
   "source": [
    "stdDevX = getStdDev(df[\"x\"].tolist())\n",
    "stdDevY = getStdDev(df[\"y\"].tolist())\n",
    "print(stdDevX, stdDevY)\n"
   ]
  },
  {
   "cell_type": "code",
   "execution_count": 15,
   "id": "84a71aeb",
   "metadata": {},
   "outputs": [
    {
     "data": {
      "text/plain": [
       "2.7684563758389267"
      ]
     },
     "execution_count": 15,
     "metadata": {},
     "output_type": "execute_result"
    }
   ],
   "source": [
    "m = correlation * stdDevY / stdDevX\n",
    "m"
   ]
  },
  {
   "cell_type": "code",
   "execution_count": 16,
   "id": "d7f0defa",
   "metadata": {},
   "outputs": [
    {
     "data": {
      "text/plain": [
       "19.60402684563758"
      ]
     },
     "execution_count": 16,
     "metadata": {},
     "output_type": "execute_result"
    }
   ],
   "source": [
    "c = df[\"Scores\"].mean() - m * df[\"Hours\"].mean()\n",
    "c"
   ]
  },
  {
   "cell_type": "code",
   "execution_count": 17,
   "id": "c2948cf8",
   "metadata": {},
   "outputs": [],
   "source": [
    "df[\"Y_pred\"] = m * df[\"Hours\"] + c"
   ]
  },
  {
   "cell_type": "code",
   "execution_count": 18,
   "id": "2aae9729",
   "metadata": {},
   "outputs": [
    {
     "data": {
      "text/html": [
       "<div>\n",
       "<style scoped>\n",
       "    .dataframe tbody tr th:only-of-type {\n",
       "        vertical-align: middle;\n",
       "    }\n",
       "\n",
       "    .dataframe tbody tr th {\n",
       "        vertical-align: top;\n",
       "    }\n",
       "\n",
       "    .dataframe thead th {\n",
       "        text-align: right;\n",
       "    }\n",
       "</style>\n",
       "<table border=\"1\" class=\"dataframe\">\n",
       "  <thead>\n",
       "    <tr style=\"text-align: right;\">\n",
       "      <th></th>\n",
       "      <th>Hours</th>\n",
       "      <th>Scores</th>\n",
       "      <th>x</th>\n",
       "      <th>y</th>\n",
       "      <th>x*y</th>\n",
       "      <th>x^2</th>\n",
       "      <th>y^2</th>\n",
       "      <th>Y_pred</th>\n",
       "    </tr>\n",
       "  </thead>\n",
       "  <tbody>\n",
       "    <tr>\n",
       "      <th>0</th>\n",
       "      <td>2</td>\n",
       "      <td>13</td>\n",
       "      <td>-3.2</td>\n",
       "      <td>-21.0</td>\n",
       "      <td>67.2</td>\n",
       "      <td>10.24</td>\n",
       "      <td>441.0</td>\n",
       "      <td>25.140940</td>\n",
       "    </tr>\n",
       "    <tr>\n",
       "      <th>1</th>\n",
       "      <td>2</td>\n",
       "      <td>20</td>\n",
       "      <td>-3.2</td>\n",
       "      <td>-14.0</td>\n",
       "      <td>44.8</td>\n",
       "      <td>10.24</td>\n",
       "      <td>196.0</td>\n",
       "      <td>25.140940</td>\n",
       "    </tr>\n",
       "    <tr>\n",
       "      <th>2</th>\n",
       "      <td>3</td>\n",
       "      <td>23</td>\n",
       "      <td>-2.2</td>\n",
       "      <td>-11.0</td>\n",
       "      <td>24.2</td>\n",
       "      <td>4.84</td>\n",
       "      <td>121.0</td>\n",
       "      <td>27.909396</td>\n",
       "    </tr>\n",
       "    <tr>\n",
       "      <th>3</th>\n",
       "      <td>5</td>\n",
       "      <td>43</td>\n",
       "      <td>-0.2</td>\n",
       "      <td>9.0</td>\n",
       "      <td>-1.8</td>\n",
       "      <td>0.04</td>\n",
       "      <td>81.0</td>\n",
       "      <td>33.446309</td>\n",
       "    </tr>\n",
       "    <tr>\n",
       "      <th>4</th>\n",
       "      <td>6</td>\n",
       "      <td>34</td>\n",
       "      <td>0.8</td>\n",
       "      <td>0.0</td>\n",
       "      <td>0.0</td>\n",
       "      <td>0.64</td>\n",
       "      <td>0.0</td>\n",
       "      <td>36.214765</td>\n",
       "    </tr>\n",
       "    <tr>\n",
       "      <th>5</th>\n",
       "      <td>7</td>\n",
       "      <td>36</td>\n",
       "      <td>1.8</td>\n",
       "      <td>2.0</td>\n",
       "      <td>3.6</td>\n",
       "      <td>3.24</td>\n",
       "      <td>4.0</td>\n",
       "      <td>38.983221</td>\n",
       "    </tr>\n",
       "    <tr>\n",
       "      <th>6</th>\n",
       "      <td>8</td>\n",
       "      <td>42</td>\n",
       "      <td>2.8</td>\n",
       "      <td>8.0</td>\n",
       "      <td>22.4</td>\n",
       "      <td>7.84</td>\n",
       "      <td>64.0</td>\n",
       "      <td>41.751678</td>\n",
       "    </tr>\n",
       "    <tr>\n",
       "      <th>7</th>\n",
       "      <td>3</td>\n",
       "      <td>44</td>\n",
       "      <td>-2.2</td>\n",
       "      <td>10.0</td>\n",
       "      <td>-22.0</td>\n",
       "      <td>4.84</td>\n",
       "      <td>100.0</td>\n",
       "      <td>27.909396</td>\n",
       "    </tr>\n",
       "    <tr>\n",
       "      <th>8</th>\n",
       "      <td>7</td>\n",
       "      <td>53</td>\n",
       "      <td>1.8</td>\n",
       "      <td>19.0</td>\n",
       "      <td>34.2</td>\n",
       "      <td>3.24</td>\n",
       "      <td>361.0</td>\n",
       "      <td>38.983221</td>\n",
       "    </tr>\n",
       "    <tr>\n",
       "      <th>9</th>\n",
       "      <td>9</td>\n",
       "      <td>32</td>\n",
       "      <td>3.8</td>\n",
       "      <td>-2.0</td>\n",
       "      <td>-7.6</td>\n",
       "      <td>14.44</td>\n",
       "      <td>4.0</td>\n",
       "      <td>44.520134</td>\n",
       "    </tr>\n",
       "  </tbody>\n",
       "</table>\n",
       "</div>"
      ],
      "text/plain": [
       "   Hours  Scores    x     y   x*y    x^2    y^2     Y_pred\n",
       "0      2      13 -3.2 -21.0  67.2  10.24  441.0  25.140940\n",
       "1      2      20 -3.2 -14.0  44.8  10.24  196.0  25.140940\n",
       "2      3      23 -2.2 -11.0  24.2   4.84  121.0  27.909396\n",
       "3      5      43 -0.2   9.0  -1.8   0.04   81.0  33.446309\n",
       "4      6      34  0.8   0.0   0.0   0.64    0.0  36.214765\n",
       "5      7      36  1.8   2.0   3.6   3.24    4.0  38.983221\n",
       "6      8      42  2.8   8.0  22.4   7.84   64.0  41.751678\n",
       "7      3      44 -2.2  10.0 -22.0   4.84  100.0  27.909396\n",
       "8      7      53  1.8  19.0  34.2   3.24  361.0  38.983221\n",
       "9      9      32  3.8  -2.0  -7.6  14.44    4.0  44.520134"
      ]
     },
     "execution_count": 18,
     "metadata": {},
     "output_type": "execute_result"
    }
   ],
   "source": [
    "df"
   ]
  },
  {
   "cell_type": "code",
   "execution_count": 19,
   "id": "465c320a",
   "metadata": {},
   "outputs": [
    {
     "data": {
      "image/png": "[encoded data removed]",
      "text/plain": [
       "<Figure size 432x288 with 1 Axes>"
      ]
     },
     "metadata": {
      "needs_background": "light"
     },
     "output_type": "display_data"
    }
   ],
   "source": [
    "plot1 = plt.scatter(df[\"Hours\"], df[\"Scores\"])\n",
    "plot2 = plt.scatter(df[\"Hours\"], df[\"Y_pred\"])\n",
    "plt.show()"
   ]
  },
  {
   "cell_type": "code",
   "execution_count": 20,
   "id": "789b7d60",
   "metadata": {},
   "outputs": [],
   "source": [
    "df[\"costVals\"] = (df[\"Scores\"] - df[\"Y_pred\"]) ** 2"
   ]
  },
  {
   "cell_type": "code",
   "execution_count": 21,
   "id": "7fb29585",
   "metadata": {},
   "outputs": [
    {
     "data": {
      "text/html": [
       "<div>\n",
       "<style scoped>\n",
       "    .dataframe tbody tr th:only-of-type {\n",
       "        vertical-align: middle;\n",
       "    }\n",
       "\n",
       "    .dataframe tbody tr th {\n",
       "        vertical-align: top;\n",
       "    }\n",
       "\n",
       "    .dataframe thead th {\n",
       "        text-align: right;\n",
       "    }\n",
       "</style>\n",
       "<table border=\"1\" class=\"dataframe\">\n",
       "  <thead>\n",
       "    <tr style=\"text-align: right;\">\n",
       "      <th></th>\n",
       "      <th>Hours</th>\n",
       "      <th>Scores</th>\n",
       "      <th>x</th>\n",
       "      <th>y</th>\n",
       "      <th>x*y</th>\n",
       "      <th>x^2</th>\n",
       "      <th>y^2</th>\n",
       "      <th>Y_pred</th>\n",
       "      <th>costVals</th>\n",
       "    </tr>\n",
       "  </thead>\n",
       "  <tbody>\n",
       "    <tr>\n",
       "      <th>0</th>\n",
       "      <td>2</td>\n",
       "      <td>13</td>\n",
       "      <td>-3.2</td>\n",
       "      <td>-21.0</td>\n",
       "      <td>67.2</td>\n",
       "      <td>10.24</td>\n",
       "      <td>441.0</td>\n",
       "      <td>25.140940</td>\n",
       "      <td>147.402414</td>\n",
       "    </tr>\n",
       "    <tr>\n",
       "      <th>1</th>\n",
       "      <td>2</td>\n",
       "      <td>20</td>\n",
       "      <td>-3.2</td>\n",
       "      <td>-14.0</td>\n",
       "      <td>44.8</td>\n",
       "      <td>10.24</td>\n",
       "      <td>196.0</td>\n",
       "      <td>25.140940</td>\n",
       "      <td>26.429260</td>\n",
       "    </tr>\n",
       "    <tr>\n",
       "      <th>2</th>\n",
       "      <td>3</td>\n",
       "      <td>23</td>\n",
       "      <td>-2.2</td>\n",
       "      <td>-11.0</td>\n",
       "      <td>24.2</td>\n",
       "      <td>4.84</td>\n",
       "      <td>121.0</td>\n",
       "      <td>27.909396</td>\n",
       "      <td>24.102169</td>\n",
       "    </tr>\n",
       "    <tr>\n",
       "      <th>3</th>\n",
       "      <td>5</td>\n",
       "      <td>43</td>\n",
       "      <td>-0.2</td>\n",
       "      <td>9.0</td>\n",
       "      <td>-1.8</td>\n",
       "      <td>0.04</td>\n",
       "      <td>81.0</td>\n",
       "      <td>33.446309</td>\n",
       "      <td>91.273017</td>\n",
       "    </tr>\n",
       "    <tr>\n",
       "      <th>4</th>\n",
       "      <td>6</td>\n",
       "      <td>34</td>\n",
       "      <td>0.8</td>\n",
       "      <td>0.0</td>\n",
       "      <td>0.0</td>\n",
       "      <td>0.64</td>\n",
       "      <td>0.0</td>\n",
       "      <td>36.214765</td>\n",
       "      <td>4.905184</td>\n",
       "    </tr>\n",
       "    <tr>\n",
       "      <th>5</th>\n",
       "      <td>7</td>\n",
       "      <td>36</td>\n",
       "      <td>1.8</td>\n",
       "      <td>2.0</td>\n",
       "      <td>3.6</td>\n",
       "      <td>3.24</td>\n",
       "      <td>4.0</td>\n",
       "      <td>38.983221</td>\n",
       "      <td>8.899610</td>\n",
       "    </tr>\n",
       "    <tr>\n",
       "      <th>6</th>\n",
       "      <td>8</td>\n",
       "      <td>42</td>\n",
       "      <td>2.8</td>\n",
       "      <td>8.0</td>\n",
       "      <td>22.4</td>\n",
       "      <td>7.84</td>\n",
       "      <td>64.0</td>\n",
       "      <td>41.751678</td>\n",
       "      <td>0.061664</td>\n",
       "    </tr>\n",
       "    <tr>\n",
       "      <th>7</th>\n",
       "      <td>3</td>\n",
       "      <td>44</td>\n",
       "      <td>-2.2</td>\n",
       "      <td>10.0</td>\n",
       "      <td>-22.0</td>\n",
       "      <td>4.84</td>\n",
       "      <td>100.0</td>\n",
       "      <td>27.909396</td>\n",
       "      <td>258.907538</td>\n",
       "    </tr>\n",
       "    <tr>\n",
       "      <th>8</th>\n",
       "      <td>7</td>\n",
       "      <td>53</td>\n",
       "      <td>1.8</td>\n",
       "      <td>19.0</td>\n",
       "      <td>34.2</td>\n",
       "      <td>3.24</td>\n",
       "      <td>361.0</td>\n",
       "      <td>38.983221</td>\n",
       "      <td>196.470080</td>\n",
       "    </tr>\n",
       "    <tr>\n",
       "      <th>9</th>\n",
       "      <td>9</td>\n",
       "      <td>32</td>\n",
       "      <td>3.8</td>\n",
       "      <td>-2.0</td>\n",
       "      <td>-7.6</td>\n",
       "      <td>14.44</td>\n",
       "      <td>4.0</td>\n",
       "      <td>44.520134</td>\n",
       "      <td>156.753761</td>\n",
       "    </tr>\n",
       "  </tbody>\n",
       "</table>\n",
       "</div>"
      ],
      "text/plain": [
       "   Hours  Scores    x     y   x*y    x^2    y^2     Y_pred    costVals\n",
       "0      2      13 -3.2 -21.0  67.2  10.24  441.0  25.140940  147.402414\n",
       "1      2      20 -3.2 -14.0  44.8  10.24  196.0  25.140940   26.429260\n",
       "2      3      23 -2.2 -11.0  24.2   4.84  121.0  27.909396   24.102169\n",
       "3      5      43 -0.2   9.0  -1.8   0.04   81.0  33.446309   91.273017\n",
       "4      6      34  0.8   0.0   0.0   0.64    0.0  36.214765    4.905184\n",
       "5      7      36  1.8   2.0   3.6   3.24    4.0  38.983221    8.899610\n",
       "6      8      42  2.8   8.0  22.4   7.84   64.0  41.751678    0.061664\n",
       "7      3      44 -2.2  10.0 -22.0   4.84  100.0  27.909396  258.907538\n",
       "8      7      53  1.8  19.0  34.2   3.24  361.0  38.983221  196.470080\n",
       "9      9      32  3.8  -2.0  -7.6  14.44    4.0  44.520134  156.753761"
      ]
     },
     "execution_count": 21,
     "metadata": {},
     "output_type": "execute_result"
    }
   ],
   "source": [
    "df"
   ]
  },
  {
   "cell_type": "code",
   "execution_count": 24,
   "id": "bb9e2251",
   "metadata": {},
   "outputs": [],
   "source": [
    "cost = df[\"costVals\"].sum() / 10"
   ]
  },
  {
   "cell_type": "code",
   "execution_count": 25,
   "id": "0218af61",
   "metadata": {},
   "outputs": [
    {
     "data": {
      "text/plain": [
       "91.52046979865773"
      ]
     },
     "execution_count": 25,
     "metadata": {},
     "output_type": "execute_result"
    }
   ],
   "source": [
    "cost"
   ]
  },
  {
   "cell_type": "code",
   "execution_count": 26,
   "id": "93d2910b",
   "metadata": {},
   "outputs": [
    {
     "data": {
      "text/plain": [
       "34.0"
      ]
     },
     "execution_count": 26,
     "metadata": {},
     "output_type": "execute_result"
    }
   ],
   "source": [
    "y_mean \n"
   ]
  },
  {
   "cell_type": "code",
   "execution_count": 27,
   "id": "e67237d4",
   "metadata": {},
   "outputs": [
    {
     "data": {
      "text/html": [
       "<div>\n",
       "<style scoped>\n",
       "    .dataframe tbody tr th:only-of-type {\n",
       "        vertical-align: middle;\n",
       "    }\n",
       "\n",
       "    .dataframe tbody tr th {\n",
       "        vertical-align: top;\n",
       "    }\n",
       "\n",
       "    .dataframe thead th {\n",
       "        text-align: right;\n",
       "    }\n",
       "</style>\n",
       "<table border=\"1\" class=\"dataframe\">\n",
       "  <thead>\n",
       "    <tr style=\"text-align: right;\">\n",
       "      <th></th>\n",
       "      <th>Hours</th>\n",
       "      <th>Scores</th>\n",
       "      <th>x</th>\n",
       "      <th>y</th>\n",
       "      <th>x*y</th>\n",
       "      <th>x^2</th>\n",
       "      <th>y^2</th>\n",
       "      <th>Y_pred</th>\n",
       "      <th>costVals</th>\n",
       "      <th>ssrVals</th>\n",
       "    </tr>\n",
       "  </thead>\n",
       "  <tbody>\n",
       "    <tr>\n",
       "      <th>0</th>\n",
       "      <td>2</td>\n",
       "      <td>13</td>\n",
       "      <td>-3.2</td>\n",
       "      <td>-21.0</td>\n",
       "      <td>67.2</td>\n",
       "      <td>10.24</td>\n",
       "      <td>441.0</td>\n",
       "      <td>25.140940</td>\n",
       "      <td>147.402414</td>\n",
       "      <td>78.482951</td>\n",
       "    </tr>\n",
       "    <tr>\n",
       "      <th>1</th>\n",
       "      <td>2</td>\n",
       "      <td>20</td>\n",
       "      <td>-3.2</td>\n",
       "      <td>-14.0</td>\n",
       "      <td>44.8</td>\n",
       "      <td>10.24</td>\n",
       "      <td>196.0</td>\n",
       "      <td>25.140940</td>\n",
       "      <td>26.429260</td>\n",
       "      <td>78.482951</td>\n",
       "    </tr>\n",
       "    <tr>\n",
       "      <th>2</th>\n",
       "      <td>3</td>\n",
       "      <td>23</td>\n",
       "      <td>-2.2</td>\n",
       "      <td>-11.0</td>\n",
       "      <td>24.2</td>\n",
       "      <td>4.84</td>\n",
       "      <td>121.0</td>\n",
       "      <td>27.909396</td>\n",
       "      <td>24.102169</td>\n",
       "      <td>37.095457</td>\n",
       "    </tr>\n",
       "    <tr>\n",
       "      <th>3</th>\n",
       "      <td>5</td>\n",
       "      <td>43</td>\n",
       "      <td>-0.2</td>\n",
       "      <td>9.0</td>\n",
       "      <td>-1.8</td>\n",
       "      <td>0.04</td>\n",
       "      <td>81.0</td>\n",
       "      <td>33.446309</td>\n",
       "      <td>91.273017</td>\n",
       "      <td>0.306574</td>\n",
       "    </tr>\n",
       "    <tr>\n",
       "      <th>4</th>\n",
       "      <td>6</td>\n",
       "      <td>34</td>\n",
       "      <td>0.8</td>\n",
       "      <td>0.0</td>\n",
       "      <td>0.0</td>\n",
       "      <td>0.64</td>\n",
       "      <td>0.0</td>\n",
       "      <td>36.214765</td>\n",
       "      <td>4.905184</td>\n",
       "      <td>4.905184</td>\n",
       "    </tr>\n",
       "    <tr>\n",
       "      <th>5</th>\n",
       "      <td>7</td>\n",
       "      <td>36</td>\n",
       "      <td>1.8</td>\n",
       "      <td>2.0</td>\n",
       "      <td>3.6</td>\n",
       "      <td>3.24</td>\n",
       "      <td>4.0</td>\n",
       "      <td>38.983221</td>\n",
       "      <td>8.899610</td>\n",
       "      <td>24.832496</td>\n",
       "    </tr>\n",
       "    <tr>\n",
       "      <th>6</th>\n",
       "      <td>8</td>\n",
       "      <td>42</td>\n",
       "      <td>2.8</td>\n",
       "      <td>8.0</td>\n",
       "      <td>22.4</td>\n",
       "      <td>7.84</td>\n",
       "      <td>64.0</td>\n",
       "      <td>41.751678</td>\n",
       "      <td>0.061664</td>\n",
       "      <td>60.088510</td>\n",
       "    </tr>\n",
       "    <tr>\n",
       "      <th>7</th>\n",
       "      <td>3</td>\n",
       "      <td>44</td>\n",
       "      <td>-2.2</td>\n",
       "      <td>10.0</td>\n",
       "      <td>-22.0</td>\n",
       "      <td>4.84</td>\n",
       "      <td>100.0</td>\n",
       "      <td>27.909396</td>\n",
       "      <td>258.907538</td>\n",
       "      <td>37.095457</td>\n",
       "    </tr>\n",
       "    <tr>\n",
       "      <th>8</th>\n",
       "      <td>7</td>\n",
       "      <td>53</td>\n",
       "      <td>1.8</td>\n",
       "      <td>19.0</td>\n",
       "      <td>34.2</td>\n",
       "      <td>3.24</td>\n",
       "      <td>361.0</td>\n",
       "      <td>38.983221</td>\n",
       "      <td>196.470080</td>\n",
       "      <td>24.832496</td>\n",
       "    </tr>\n",
       "    <tr>\n",
       "      <th>9</th>\n",
       "      <td>9</td>\n",
       "      <td>32</td>\n",
       "      <td>3.8</td>\n",
       "      <td>-2.0</td>\n",
       "      <td>-7.6</td>\n",
       "      <td>14.44</td>\n",
       "      <td>4.0</td>\n",
       "      <td>44.520134</td>\n",
       "      <td>156.753761</td>\n",
       "      <td>110.673224</td>\n",
       "    </tr>\n",
       "  </tbody>\n",
       "</table>\n",
       "</div>"
      ],
      "text/plain": [
       "   Hours  Scores    x     y   x*y    x^2    y^2     Y_pred    costVals  \\\n",
       "0      2      13 -3.2 -21.0  67.2  10.24  441.0  25.140940  147.402414   \n",
       "1      2      20 -3.2 -14.0  44.8  10.24  196.0  25.140940   26.429260   \n",
       "2      3      23 -2.2 -11.0  24.2   4.84  121.0  27.909396   24.102169   \n",
       "3      5      43 -0.2   9.0  -1.8   0.04   81.0  33.446309   91.273017   \n",
       "4      6      34  0.8   0.0   0.0   0.64    0.0  36.214765    4.905184   \n",
       "5      7      36  1.8   2.0   3.6   3.24    4.0  38.983221    8.899610   \n",
       "6      8      42  2.8   8.0  22.4   7.84   64.0  41.751678    0.061664   \n",
       "7      3      44 -2.2  10.0 -22.0   4.84  100.0  27.909396  258.907538   \n",
       "8      7      53  1.8  19.0  34.2   3.24  361.0  38.983221  196.470080   \n",
       "9      9      32  3.8  -2.0  -7.6  14.44    4.0  44.520134  156.753761   \n",
       "\n",
       "      ssrVals  \n",
       "0   78.482951  \n",
       "1   78.482951  \n",
       "2   37.095457  \n",
       "3    0.306574  \n",
       "4    4.905184  \n",
       "5   24.832496  \n",
       "6   60.088510  \n",
       "7   37.095457  \n",
       "8   24.832496  \n",
       "9  110.673224  "
      ]
     },
     "execution_count": 27,
     "metadata": {},
     "output_type": "execute_result"
    }
   ],
   "source": [
    "df[\"ssrVals\"] = (df[\"Y_pred\"] - y_mean) ** 2\n",
    "df"
   ]
  },
  {
   "cell_type": "code",
   "execution_count": 30,
   "id": "995c784a",
   "metadata": {},
   "outputs": [],
   "source": [
    "ssr = df[\"ssrVals\"].sum() / 10"
   ]
  },
  {
   "cell_type": "code",
   "execution_count": 31,
   "id": "ac9010b1",
   "metadata": {},
   "outputs": [
    {
     "data": {
      "text/plain": [
       "45.679530201342295"
      ]
     },
     "execution_count": 31,
     "metadata": {},
     "output_type": "execute_result"
    }
   ],
   "source": [
    "ssr"
   ]
  },
  {
   "cell_type": "code",
   "execution_count": 32,
   "id": "e92e0ace",
   "metadata": {},
   "outputs": [],
   "source": [
    "sst = ssr + cost"
   ]
  },
  {
   "cell_type": "code",
   "execution_count": 33,
   "id": "6db56d1a",
   "metadata": {},
   "outputs": [
    {
     "data": {
      "text/plain": [
       "137.20000000000002"
      ]
     },
     "execution_count": 33,
     "metadata": {},
     "output_type": "execute_result"
    }
   ],
   "source": [
    "sst"
   ]
  },
  {
   "cell_type": "code",
   "execution_count": 36,
   "id": "2c56d490",
   "metadata": {},
   "outputs": [
    {
     "data": {
      "text/plain": [
       "0.3329411822255268"
      ]
     },
     "execution_count": 36,
     "metadata": {},
     "output_type": "execute_result"
    }
   ],
   "source": [
    "rSqured = 1 - (cost/sst)\n",
    "rSqured"
   ]
  },
  {
   "cell_type": "code",
   "execution_count": null,
   "id": "1dead825",
   "metadata": {},
   "outputs": [],
   "source": []
  }
 ],
 "metadata": {
  "kernelspec": {
   "display_name": "Python 3 (ipykernel)",
   "language": "python",
   "name": "python3"
  },
  "language_info": {
   "codemirror_mode": {
    "name": "ipython",
    "version": 3
   },
   "file_extension": ".py",
   "mimetype": "text/x-python",
   "name": "python",
   "nbconvert_exporter": "python",
   "pygments_lexer": "ipython3",
   "version": "3.10.6"
  }
 },
 "nbformat": 4,
 "nbformat_minor": 5
}
