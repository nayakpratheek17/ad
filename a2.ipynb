{
 "cells": [
  {
   "cell_type": "code",
   "execution_count": 1,
   "id": "dbe8afb8",
   "metadata": {},
   "outputs": [],
   "source": [
    "import numpy as np\n",
    "import pandas as pd\n",
    "import matplotlib.pyplot as plt\n",
    "import seaborn as sns\n",
    "from sklearn.preprocessing import StandardScaler"
   ]
  },
  {
   "cell_type": "code",
   "execution_count": 2,
   "id": "945d1bcd",
   "metadata": {},
   "outputs": [
    {
     "data": {
      "text/html": [
       "<div>\n",
       "<style scoped>\n",
       "    .dataframe tbody tr th:only-of-type {\n",
       "        vertical-align: middle;\n",
       "    }\n",
       "\n",
       "    .dataframe tbody tr th {\n",
       "        vertical-align: top;\n",
       "    }\n",
       "\n",
       "    .dataframe thead th {\n",
       "        text-align: right;\n",
       "    }\n",
       "</style>\n",
       "<table border=\"1\" class=\"dataframe\">\n",
       "  <thead>\n",
       "    <tr style=\"text-align: right;\">\n",
       "      <th></th>\n",
       "      <th>sepal length</th>\n",
       "      <th>sepal width</th>\n",
       "      <th>petal length</th>\n",
       "      <th>petal width</th>\n",
       "      <th>species</th>\n",
       "    </tr>\n",
       "  </thead>\n",
       "  <tbody>\n",
       "    <tr>\n",
       "      <th>0</th>\n",
       "      <td>5.1</td>\n",
       "      <td>3.5</td>\n",
       "      <td>1.4</td>\n",
       "      <td>0.2</td>\n",
       "      <td>1</td>\n",
       "    </tr>\n",
       "    <tr>\n",
       "      <th>1</th>\n",
       "      <td>4.9</td>\n",
       "      <td>3.0</td>\n",
       "      <td>1.4</td>\n",
       "      <td>0.2</td>\n",
       "      <td>1</td>\n",
       "    </tr>\n",
       "    <tr>\n",
       "      <th>2</th>\n",
       "      <td>4.7</td>\n",
       "      <td>3.2</td>\n",
       "      <td>1.3</td>\n",
       "      <td>0.2</td>\n",
       "      <td>1</td>\n",
       "    </tr>\n",
       "    <tr>\n",
       "      <th>3</th>\n",
       "      <td>4.6</td>\n",
       "      <td>3.1</td>\n",
       "      <td>1.5</td>\n",
       "      <td>0.2</td>\n",
       "      <td>1</td>\n",
       "    </tr>\n",
       "    <tr>\n",
       "      <th>4</th>\n",
       "      <td>5.0</td>\n",
       "      <td>3.6</td>\n",
       "      <td>1.4</td>\n",
       "      <td>0.2</td>\n",
       "      <td>1</td>\n",
       "    </tr>\n",
       "  </tbody>\n",
       "</table>\n",
       "</div>"
      ],
      "text/plain": [
       "   sepal length  sepal width  petal length  petal width  species\n",
       "0           5.1          3.5           1.4          0.2        1\n",
       "1           4.9          3.0           1.4          0.2        1\n",
       "2           4.7          3.2           1.3          0.2        1\n",
       "3           4.6          3.1           1.5          0.2        1\n",
       "4           5.0          3.6           1.4          0.2        1"
      ]
     },
     "execution_count": 2,
     "metadata": {},
     "output_type": "execute_result"
    }
   ],
   "source": [
    "df = pd.read_csv('/home/nayak_pratheek17/Desktop/College Material/ML/MachineLearningLab/A2.csv')\n",
    "df.head()\n"
   ]
  },
  {
   "cell_type": "code",
   "execution_count": 3,
   "id": "721b7745",
   "metadata": {},
   "outputs": [],
   "source": [
    "X = df.drop(['species'], axis = 1)"
   ]
  },
  {
   "cell_type": "code",
   "execution_count": 19,
   "id": "1029b7c8",
   "metadata": {},
   "outputs": [
    {
     "data": {
      "text/html": [
       "<div>\n",
       "<style scoped>\n",
       "    .dataframe tbody tr th:only-of-type {\n",
       "        vertical-align: middle;\n",
       "    }\n",
       "\n",
       "    .dataframe tbody tr th {\n",
       "        vertical-align: top;\n",
       "    }\n",
       "\n",
       "    .dataframe thead th {\n",
       "        text-align: right;\n",
       "    }\n",
       "</style>\n",
       "<table border=\"1\" class=\"dataframe\">\n",
       "  <thead>\n",
       "    <tr style=\"text-align: right;\">\n",
       "      <th></th>\n",
       "      <th>sepal length</th>\n",
       "      <th>sepal width</th>\n",
       "      <th>petal length</th>\n",
       "      <th>petal width</th>\n",
       "    </tr>\n",
       "  </thead>\n",
       "  <tbody>\n",
       "    <tr>\n",
       "      <th>0</th>\n",
       "      <td>5.1</td>\n",
       "      <td>3.5</td>\n",
       "      <td>1.4</td>\n",
       "      <td>0.2</td>\n",
       "    </tr>\n",
       "    <tr>\n",
       "      <th>1</th>\n",
       "      <td>4.9</td>\n",
       "      <td>3.0</td>\n",
       "      <td>1.4</td>\n",
       "      <td>0.2</td>\n",
       "    </tr>\n",
       "    <tr>\n",
       "      <th>2</th>\n",
       "      <td>4.7</td>\n",
       "      <td>3.2</td>\n",
       "      <td>1.3</td>\n",
       "      <td>0.2</td>\n",
       "    </tr>\n",
       "    <tr>\n",
       "      <th>3</th>\n",
       "      <td>4.6</td>\n",
       "      <td>3.1</td>\n",
       "      <td>1.5</td>\n",
       "      <td>0.2</td>\n",
       "    </tr>\n",
       "    <tr>\n",
       "      <th>4</th>\n",
       "      <td>5.0</td>\n",
       "      <td>3.6</td>\n",
       "      <td>1.4</td>\n",
       "      <td>0.2</td>\n",
       "    </tr>\n",
       "    <tr>\n",
       "      <th>...</th>\n",
       "      <td>...</td>\n",
       "      <td>...</td>\n",
       "      <td>...</td>\n",
       "      <td>...</td>\n",
       "    </tr>\n",
       "    <tr>\n",
       "      <th>145</th>\n",
       "      <td>6.7</td>\n",
       "      <td>3.0</td>\n",
       "      <td>5.2</td>\n",
       "      <td>2.3</td>\n",
       "    </tr>\n",
       "    <tr>\n",
       "      <th>146</th>\n",
       "      <td>6.3</td>\n",
       "      <td>2.5</td>\n",
       "      <td>5.0</td>\n",
       "      <td>1.9</td>\n",
       "    </tr>\n",
       "    <tr>\n",
       "      <th>147</th>\n",
       "      <td>6.5</td>\n",
       "      <td>3.0</td>\n",
       "      <td>5.2</td>\n",
       "      <td>2.0</td>\n",
       "    </tr>\n",
       "    <tr>\n",
       "      <th>148</th>\n",
       "      <td>6.2</td>\n",
       "      <td>3.4</td>\n",
       "      <td>5.4</td>\n",
       "      <td>2.3</td>\n",
       "    </tr>\n",
       "    <tr>\n",
       "      <th>149</th>\n",
       "      <td>5.9</td>\n",
       "      <td>3.0</td>\n",
       "      <td>5.1</td>\n",
       "      <td>1.8</td>\n",
       "    </tr>\n",
       "  </tbody>\n",
       "</table>\n",
       "<p>150 rows × 4 columns</p>\n",
       "</div>"
      ],
      "text/plain": [
       "     sepal length  sepal width  petal length  petal width\n",
       "0             5.1          3.5           1.4          0.2\n",
       "1             4.9          3.0           1.4          0.2\n",
       "2             4.7          3.2           1.3          0.2\n",
       "3             4.6          3.1           1.5          0.2\n",
       "4             5.0          3.6           1.4          0.2\n",
       "..            ...          ...           ...          ...\n",
       "145           6.7          3.0           5.2          2.3\n",
       "146           6.3          2.5           5.0          1.9\n",
       "147           6.5          3.0           5.2          2.0\n",
       "148           6.2          3.4           5.4          2.3\n",
       "149           5.9          3.0           5.1          1.8\n",
       "\n",
       "[150 rows x 4 columns]"
      ]
     },
     "execution_count": 19,
     "metadata": {},
     "output_type": "execute_result"
    }
   ],
   "source": [
    "X\n"
   ]
  },
  {
   "cell_type": "code",
   "execution_count": 5,
   "id": "71258e20",
   "metadata": {},
   "outputs": [
    {
     "data": {
      "text/plain": [
       "array([[-0.90068117,  1.01900435, -1.34022653, -1.3154443 ],\n",
       "       [-1.14301691, -0.13197948, -1.34022653, -1.3154443 ],\n",
       "       [-1.38535265,  0.32841405, -1.39706395, -1.3154443 ],\n",
       "       [-1.50652052,  0.09821729, -1.2833891 , -1.3154443 ],\n",
       "       [-1.02184904,  1.24920112, -1.34022653, -1.3154443 ]])"
      ]
     },
     "execution_count": 5,
     "metadata": {},
     "output_type": "execute_result"
    }
   ],
   "source": [
    "X_scaled = StandardScaler().fit_transform(X)\n",
    "X_scaled[:5]"
   ]
  },
  {
   "cell_type": "code",
   "execution_count": 6,
   "id": "b517994b",
   "metadata": {},
   "outputs": [],
   "source": [
    "y = df['species']"
   ]
  },
  {
   "cell_type": "code",
   "execution_count": 7,
   "id": "7cc19e82",
   "metadata": {},
   "outputs": [
    {
     "data": {
      "text/plain": [
       "0      1\n",
       "1      1\n",
       "2      1\n",
       "3      1\n",
       "4      1\n",
       "      ..\n",
       "145    3\n",
       "146    3\n",
       "147    3\n",
       "148    3\n",
       "149    3\n",
       "Name: species, Length: 150, dtype: int64"
      ]
     },
     "execution_count": 7,
     "metadata": {},
     "output_type": "execute_result"
    }
   ],
   "source": [
    "y"
   ]
  },
  {
   "cell_type": "code",
   "execution_count": 8,
   "id": "b3e23407",
   "metadata": {},
   "outputs": [],
   "source": [
    "features = X_scaled.T"
   ]
  },
  {
   "cell_type": "code",
   "execution_count": 9,
   "id": "c192eb82",
   "metadata": {},
   "outputs": [
    {
     "data": {
      "text/plain": [
       "array([[-9.00681170e-01, -1.14301691e+00, -1.38535265e+00,\n",
       "        -1.50652052e+00, -1.02184904e+00, -5.37177559e-01,\n",
       "        -1.50652052e+00, -1.02184904e+00, -1.74885626e+00,\n",
       "        -1.14301691e+00, -5.37177559e-01, -1.26418478e+00,\n",
       "        -1.26418478e+00, -1.87002413e+00, -5.25060772e-02,\n",
       "        -1.73673948e-01, -5.37177559e-01, -9.00681170e-01,\n",
       "        -1.73673948e-01, -9.00681170e-01, -5.37177559e-01,\n",
       "        -9.00681170e-01, -1.50652052e+00, -9.00681170e-01,\n",
       "        -1.26418478e+00, -1.02184904e+00, -1.02184904e+00,\n",
       "        -7.79513300e-01, -7.79513300e-01, -1.38535265e+00,\n",
       "        -1.26418478e+00, -5.37177559e-01, -7.79513300e-01,\n",
       "        -4.16009689e-01, -1.14301691e+00, -1.02184904e+00,\n",
       "        -4.16009689e-01, -1.14301691e+00, -1.74885626e+00,\n",
       "        -9.00681170e-01, -1.02184904e+00, -1.62768839e+00,\n",
       "        -1.74885626e+00, -1.02184904e+00, -9.00681170e-01,\n",
       "        -1.26418478e+00, -9.00681170e-01, -1.50652052e+00,\n",
       "        -6.58345429e-01, -1.02184904e+00,  1.40150837e+00,\n",
       "         6.74501145e-01,  1.28034050e+00, -4.16009689e-01,\n",
       "         7.95669016e-01, -1.73673948e-01,  5.53333275e-01,\n",
       "        -1.14301691e+00,  9.16836886e-01, -7.79513300e-01,\n",
       "        -1.02184904e+00,  6.86617933e-02,  1.89829664e-01,\n",
       "         3.10997534e-01, -2.94841818e-01,  1.03800476e+00,\n",
       "        -2.94841818e-01, -5.25060772e-02,  4.32165405e-01,\n",
       "        -2.94841818e-01,  6.86617933e-02,  3.10997534e-01,\n",
       "         5.53333275e-01,  3.10997534e-01,  6.74501145e-01,\n",
       "         9.16836886e-01,  1.15917263e+00,  1.03800476e+00,\n",
       "         1.89829664e-01, -1.73673948e-01, -4.16009689e-01,\n",
       "        -4.16009689e-01, -5.25060772e-02,  1.89829664e-01,\n",
       "        -5.37177559e-01,  1.89829664e-01,  1.03800476e+00,\n",
       "         5.53333275e-01, -2.94841818e-01, -4.16009689e-01,\n",
       "        -4.16009689e-01,  3.10997534e-01, -5.25060772e-02,\n",
       "        -1.02184904e+00, -2.94841818e-01, -1.73673948e-01,\n",
       "        -1.73673948e-01,  4.32165405e-01, -9.00681170e-01,\n",
       "        -1.73673948e-01,  5.53333275e-01, -5.25060772e-02,\n",
       "         1.52267624e+00,  5.53333275e-01,  7.95669016e-01,\n",
       "         2.12851559e+00, -1.14301691e+00,  1.76501198e+00,\n",
       "         1.03800476e+00,  1.64384411e+00,  7.95669016e-01,\n",
       "         6.74501145e-01,  1.15917263e+00, -1.73673948e-01,\n",
       "        -5.25060772e-02,  6.74501145e-01,  7.95669016e-01,\n",
       "         2.24968346e+00,  2.24968346e+00,  1.89829664e-01,\n",
       "         1.28034050e+00, -2.94841818e-01,  2.24968346e+00,\n",
       "         5.53333275e-01,  1.03800476e+00,  1.64384411e+00,\n",
       "         4.32165405e-01,  3.10997534e-01,  6.74501145e-01,\n",
       "         1.64384411e+00,  1.88617985e+00,  2.49201920e+00,\n",
       "         6.74501145e-01,  5.53333275e-01,  3.10997534e-01,\n",
       "         2.24968346e+00,  5.53333275e-01,  6.74501145e-01,\n",
       "         1.89829664e-01,  1.28034050e+00,  1.03800476e+00,\n",
       "         1.28034050e+00, -5.25060772e-02,  1.15917263e+00,\n",
       "         1.03800476e+00,  1.03800476e+00,  5.53333275e-01,\n",
       "         7.95669016e-01,  4.32165405e-01,  6.86617933e-02],\n",
       "       [ 1.01900435e+00, -1.31979479e-01,  3.28414053e-01,\n",
       "         9.82172869e-02,  1.24920112e+00,  1.93979142e+00,\n",
       "         7.88807586e-01,  7.88807586e-01, -3.62176246e-01,\n",
       "         9.82172869e-02,  1.47939788e+00,  7.88807586e-01,\n",
       "        -1.31979479e-01, -1.31979479e-01,  2.16998818e+00,\n",
       "         3.09077525e+00,  1.93979142e+00,  1.01900435e+00,\n",
       "         1.70959465e+00,  1.70959465e+00,  7.88807586e-01,\n",
       "         1.47939788e+00,  1.24920112e+00,  5.58610819e-01,\n",
       "         7.88807586e-01, -1.31979479e-01,  7.88807586e-01,\n",
       "         1.01900435e+00,  7.88807586e-01,  3.28414053e-01,\n",
       "         9.82172869e-02,  7.88807586e-01,  2.40018495e+00,\n",
       "         2.63038172e+00,  9.82172869e-02,  3.28414053e-01,\n",
       "         1.01900435e+00,  1.24920112e+00, -1.31979479e-01,\n",
       "         7.88807586e-01,  1.01900435e+00, -1.74335684e+00,\n",
       "         3.28414053e-01,  1.01900435e+00,  1.70959465e+00,\n",
       "        -1.31979479e-01,  1.70959465e+00,  3.28414053e-01,\n",
       "         1.47939788e+00,  5.58610819e-01,  3.28414053e-01,\n",
       "         3.28414053e-01,  9.82172869e-02, -1.74335684e+00,\n",
       "        -5.92373012e-01, -5.92373012e-01,  5.58610819e-01,\n",
       "        -1.51316008e+00, -3.62176246e-01, -8.22569778e-01,\n",
       "        -2.43394714e+00, -1.31979479e-01, -1.97355361e+00,\n",
       "        -3.62176246e-01, -3.62176246e-01,  9.82172869e-02,\n",
       "        -1.31979479e-01, -8.22569778e-01, -1.97355361e+00,\n",
       "        -1.28296331e+00,  3.28414053e-01, -5.92373012e-01,\n",
       "        -1.28296331e+00, -5.92373012e-01, -3.62176246e-01,\n",
       "        -1.31979479e-01, -5.92373012e-01, -1.31979479e-01,\n",
       "        -3.62176246e-01, -1.05276654e+00, -1.51316008e+00,\n",
       "        -1.51316008e+00, -8.22569778e-01, -8.22569778e-01,\n",
       "        -1.31979479e-01,  7.88807586e-01,  9.82172869e-02,\n",
       "        -1.74335684e+00, -1.31979479e-01, -1.28296331e+00,\n",
       "        -1.05276654e+00, -1.31979479e-01, -1.05276654e+00,\n",
       "        -1.74335684e+00, -8.22569778e-01, -1.31979479e-01,\n",
       "        -3.62176246e-01, -3.62176246e-01, -1.28296331e+00,\n",
       "        -5.92373012e-01,  5.58610819e-01, -8.22569778e-01,\n",
       "        -1.31979479e-01, -3.62176246e-01, -1.31979479e-01,\n",
       "        -1.31979479e-01, -1.28296331e+00, -3.62176246e-01,\n",
       "        -1.28296331e+00,  1.24920112e+00,  3.28414053e-01,\n",
       "        -8.22569778e-01, -1.31979479e-01, -1.28296331e+00,\n",
       "        -5.92373012e-01,  3.28414053e-01, -1.31979479e-01,\n",
       "         1.70959465e+00, -1.05276654e+00, -1.97355361e+00,\n",
       "         3.28414053e-01, -5.92373012e-01, -5.92373012e-01,\n",
       "        -8.22569778e-01,  5.58610819e-01,  3.28414053e-01,\n",
       "        -5.92373012e-01, -1.31979479e-01, -5.92373012e-01,\n",
       "        -1.31979479e-01, -5.92373012e-01,  1.70959465e+00,\n",
       "        -5.92373012e-01, -5.92373012e-01, -1.05276654e+00,\n",
       "        -1.31979479e-01,  7.88807586e-01,  9.82172869e-02,\n",
       "        -1.31979479e-01,  9.82172869e-02,  9.82172869e-02,\n",
       "         9.82172869e-02, -8.22569778e-01,  3.28414053e-01,\n",
       "         5.58610819e-01, -1.31979479e-01, -1.28296331e+00,\n",
       "        -1.31979479e-01,  7.88807586e-01, -1.31979479e-01],\n",
       "       [-1.34022653e+00, -1.34022653e+00, -1.39706395e+00,\n",
       "        -1.28338910e+00, -1.34022653e+00, -1.16971425e+00,\n",
       "        -1.34022653e+00, -1.28338910e+00, -1.34022653e+00,\n",
       "        -1.28338910e+00, -1.28338910e+00, -1.22655167e+00,\n",
       "        -1.34022653e+00, -1.51073881e+00, -1.45390138e+00,\n",
       "        -1.28338910e+00, -1.39706395e+00, -1.34022653e+00,\n",
       "        -1.16971425e+00, -1.28338910e+00, -1.16971425e+00,\n",
       "        -1.28338910e+00, -1.56757623e+00, -1.16971425e+00,\n",
       "        -1.05603939e+00, -1.22655167e+00, -1.22655167e+00,\n",
       "        -1.28338910e+00, -1.34022653e+00, -1.22655167e+00,\n",
       "        -1.22655167e+00, -1.28338910e+00, -1.28338910e+00,\n",
       "        -1.34022653e+00, -1.28338910e+00, -1.45390138e+00,\n",
       "        -1.39706395e+00, -1.34022653e+00, -1.39706395e+00,\n",
       "        -1.28338910e+00, -1.39706395e+00, -1.39706395e+00,\n",
       "        -1.39706395e+00, -1.22655167e+00, -1.05603939e+00,\n",
       "        -1.34022653e+00, -1.22655167e+00, -1.34022653e+00,\n",
       "        -1.28338910e+00, -1.34022653e+00,  5.35408562e-01,\n",
       "         4.21733708e-01,  6.49083415e-01,  1.37546573e-01,\n",
       "         4.78571135e-01,  4.21733708e-01,  5.35408562e-01,\n",
       "        -2.60315415e-01,  4.78571135e-01,  8.07091462e-02,\n",
       "        -1.46640561e-01,  2.51221427e-01,  1.37546573e-01,\n",
       "         5.35408562e-01, -8.98031345e-02,  3.64896281e-01,\n",
       "         4.21733708e-01,  1.94384000e-01,  4.21733708e-01,\n",
       "         8.07091462e-02,  5.92245988e-01,  1.37546573e-01,\n",
       "         6.49083415e-01,  5.35408562e-01,  3.08058854e-01,\n",
       "         3.64896281e-01,  5.92245988e-01,  7.05920842e-01,\n",
       "         4.21733708e-01, -1.46640561e-01,  2.38717193e-02,\n",
       "        -3.29657076e-02,  8.07091462e-02,  7.62758269e-01,\n",
       "         4.21733708e-01,  4.21733708e-01,  5.35408562e-01,\n",
       "         3.64896281e-01,  1.94384000e-01,  1.37546573e-01,\n",
       "         3.64896281e-01,  4.78571135e-01,  1.37546573e-01,\n",
       "        -2.60315415e-01,  2.51221427e-01,  2.51221427e-01,\n",
       "         2.51221427e-01,  3.08058854e-01, -4.30827696e-01,\n",
       "         1.94384000e-01,  1.27429511e+00,  7.62758269e-01,\n",
       "         1.21745768e+00,  1.04694540e+00,  1.16062026e+00,\n",
       "         1.61531967e+00,  4.21733708e-01,  1.44480739e+00,\n",
       "         1.16062026e+00,  1.33113254e+00,  7.62758269e-01,\n",
       "         8.76433123e-01,  9.90107977e-01,  7.05920842e-01,\n",
       "         7.62758269e-01,  8.76433123e-01,  9.90107977e-01,\n",
       "         1.67215710e+00,  1.78583195e+00,  7.05920842e-01,\n",
       "         1.10378283e+00,  6.49083415e-01,  1.67215710e+00,\n",
       "         6.49083415e-01,  1.10378283e+00,  1.27429511e+00,\n",
       "         5.92245988e-01,  6.49083415e-01,  1.04694540e+00,\n",
       "         1.16062026e+00,  1.33113254e+00,  1.50164482e+00,\n",
       "         1.04694540e+00,  7.62758269e-01,  1.04694540e+00,\n",
       "         1.33113254e+00,  1.04694540e+00,  9.90107977e-01,\n",
       "         5.92245988e-01,  9.33270550e-01,  1.04694540e+00,\n",
       "         7.62758269e-01,  7.62758269e-01,  1.21745768e+00,\n",
       "         1.10378283e+00,  8.19595696e-01,  7.05920842e-01,\n",
       "         8.19595696e-01,  9.33270550e-01,  7.62758269e-01],\n",
       "       [-1.31544430e+00, -1.31544430e+00, -1.31544430e+00,\n",
       "        -1.31544430e+00, -1.31544430e+00, -1.05217993e+00,\n",
       "        -1.18381211e+00, -1.31544430e+00, -1.31544430e+00,\n",
       "        -1.44707648e+00, -1.31544430e+00, -1.31544430e+00,\n",
       "        -1.44707648e+00, -1.44707648e+00, -1.31544430e+00,\n",
       "        -1.05217993e+00, -1.05217993e+00, -1.18381211e+00,\n",
       "        -1.18381211e+00, -1.18381211e+00, -1.31544430e+00,\n",
       "        -1.05217993e+00, -1.31544430e+00, -9.20547742e-01,\n",
       "        -1.31544430e+00, -1.31544430e+00, -1.05217993e+00,\n",
       "        -1.31544430e+00, -1.31544430e+00, -1.31544430e+00,\n",
       "        -1.31544430e+00, -1.05217993e+00, -1.44707648e+00,\n",
       "        -1.31544430e+00, -1.31544430e+00, -1.31544430e+00,\n",
       "        -1.31544430e+00, -1.44707648e+00, -1.31544430e+00,\n",
       "        -1.31544430e+00, -1.18381211e+00, -1.18381211e+00,\n",
       "        -1.31544430e+00, -7.88915558e-01, -1.05217993e+00,\n",
       "        -1.18381211e+00, -1.31544430e+00, -1.31544430e+00,\n",
       "        -1.31544430e+00, -1.31544430e+00,  2.64141916e-01,\n",
       "         3.95774101e-01,  3.95774101e-01,  1.32509732e-01,\n",
       "         3.95774101e-01,  1.32509732e-01,  5.27406285e-01,\n",
       "        -2.62386821e-01,  1.32509732e-01,  2.64141916e-01,\n",
       "        -2.62386821e-01,  3.95774101e-01, -2.62386821e-01,\n",
       "         2.64141916e-01,  1.32509732e-01,  2.64141916e-01,\n",
       "         3.95774101e-01, -2.62386821e-01,  3.95774101e-01,\n",
       "        -1.30754636e-01,  7.90670654e-01,  1.32509732e-01,\n",
       "         3.95774101e-01,  8.77547895e-04,  1.32509732e-01,\n",
       "         2.64141916e-01,  2.64141916e-01,  6.59038469e-01,\n",
       "         3.95774101e-01, -2.62386821e-01, -1.30754636e-01,\n",
       "        -2.62386821e-01,  8.77547895e-04,  5.27406285e-01,\n",
       "         3.95774101e-01,  5.27406285e-01,  3.95774101e-01,\n",
       "         1.32509732e-01,  1.32509732e-01,  1.32509732e-01,\n",
       "         8.77547895e-04,  2.64141916e-01,  8.77547895e-04,\n",
       "        -2.62386821e-01,  1.32509732e-01,  8.77547895e-04,\n",
       "         1.32509732e-01,  1.32509732e-01, -1.30754636e-01,\n",
       "         1.32509732e-01,  1.71209594e+00,  9.22302838e-01,\n",
       "         1.18556721e+00,  7.90670654e-01,  1.31719939e+00,\n",
       "         1.18556721e+00,  6.59038469e-01,  7.90670654e-01,\n",
       "         7.90670654e-01,  1.71209594e+00,  1.05393502e+00,\n",
       "         9.22302838e-01,  1.18556721e+00,  1.05393502e+00,\n",
       "         1.58046376e+00,  1.44883158e+00,  7.90670654e-01,\n",
       "         1.31719939e+00,  1.44883158e+00,  3.95774101e-01,\n",
       "         1.44883158e+00,  1.05393502e+00,  1.05393502e+00,\n",
       "         7.90670654e-01,  1.18556721e+00,  7.90670654e-01,\n",
       "         7.90670654e-01,  7.90670654e-01,  1.18556721e+00,\n",
       "         5.27406285e-01,  9.22302838e-01,  1.05393502e+00,\n",
       "         1.31719939e+00,  3.95774101e-01,  2.64141916e-01,\n",
       "         1.44883158e+00,  1.58046376e+00,  7.90670654e-01,\n",
       "         7.90670654e-01,  1.18556721e+00,  1.58046376e+00,\n",
       "         1.44883158e+00,  9.22302838e-01,  1.44883158e+00,\n",
       "         1.71209594e+00,  1.44883158e+00,  9.22302838e-01,\n",
       "         1.05393502e+00,  1.44883158e+00,  7.90670654e-01]])"
      ]
     },
     "execution_count": 9,
     "metadata": {},
     "output_type": "execute_result"
    }
   ],
   "source": [
    "features"
   ]
  },
  {
   "cell_type": "code",
   "execution_count": 10,
   "id": "17c039aa",
   "metadata": {},
   "outputs": [
    {
     "data": {
      "text/plain": [
       "array([[ 1.00671141, -0.11835884,  0.87760447,  0.82343066],\n",
       "       [-0.11835884,  1.00671141, -0.43131554, -0.36858315],\n",
       "       [ 0.87760447, -0.43131554,  1.00671141,  0.96932762],\n",
       "       [ 0.82343066, -0.36858315,  0.96932762,  1.00671141]])"
      ]
     },
     "execution_count": 10,
     "metadata": {},
     "output_type": "execute_result"
    }
   ],
   "source": [
    "cov_matrix = np.cov(features)\n",
    "cov_matrix[:5]"
   ]
  },
  {
   "cell_type": "code",
   "execution_count": 11,
   "id": "a5b69576",
   "metadata": {},
   "outputs": [
    {
     "data": {
      "text/plain": [
       "array([[ 0.52106591, -0.37741762, -0.71956635,  0.26128628],\n",
       "       [-0.26934744, -0.92329566,  0.24438178, -0.12350962],\n",
       "       [ 0.5804131 , -0.02449161,  0.14212637, -0.80144925],\n",
       "       [ 0.56485654, -0.06694199,  0.63427274,  0.52359713]])"
      ]
     },
     "execution_count": 11,
     "metadata": {},
     "output_type": "execute_result"
    }
   ],
   "source": [
    "values, vectors = np.linalg.eig(cov_matrix)\n",
    "values[:5]\n",
    "vectors[:5]"
   ]
  },
  {
   "cell_type": "code",
   "execution_count": 13,
   "id": "3c41df68",
   "metadata": {},
   "outputs": [
    {
     "data": {
      "text/plain": [
       "array([2.93808505, 0.9201649 , 0.14774182, 0.02085386])"
      ]
     },
     "execution_count": 13,
     "metadata": {},
     "output_type": "execute_result"
    }
   ],
   "source": [
    "values[:5]"
   ]
  },
  {
   "cell_type": "code",
   "execution_count": 14,
   "id": "2f6b431f",
   "metadata": {},
   "outputs": [
    {
     "name": "stdout",
     "output_type": "stream",
     "text": [
      "Variances for each feature: [72.9624454132999, 22.850761786701725, 3.668921889282867, 0.5178709107155016]\n"
     ]
    }
   ],
   "source": [
    "explained_variances = []\n",
    "for i in range(len(values)):\n",
    "    explained_variances.append((values[i] / np.sum(values)) * 100)\n",
    " \n",
    "print(\"Variances for each feature:\", explained_variances)"
   ]
  },
  {
   "cell_type": "code",
   "execution_count": 15,
   "id": "e2ac4152",
   "metadata": {},
   "outputs": [
    {
     "data": {
      "text/plain": [
       "Text(0.5, 0, 'Dimensions')"
      ]
     },
     "execution_count": 15,
     "metadata": {},
     "output_type": "execute_result"
    },
    {
     "data": {
      "image/png": "[encoded data removed]",
      "text/plain": [
       "<Figure size 576x288 with 1 Axes>"
      ]
     },
     "metadata": {
      "needs_background": "light"
     },
     "output_type": "display_data"
    }
   ],
   "source": [
    "plt.figure(figsize = (8, 4))\n",
    "plt.bar(range(4), explained_variances, alpha = 0.6)\n",
    "plt.ylabel('Percentage of Explained Variances')\n",
    "plt.xlabel('Dimensions')"
   ]
  },
  {
   "cell_type": "code",
   "execution_count": 17,
   "id": "fa42e1ee",
   "metadata": {},
   "outputs": [
    {
     "data": {
      "text/html": [
       "<div>\n",
       "<style scoped>\n",
       "    .dataframe tbody tr th:only-of-type {\n",
       "        vertical-align: middle;\n",
       "    }\n",
       "\n",
       "    .dataframe tbody tr th {\n",
       "        vertical-align: top;\n",
       "    }\n",
       "\n",
       "    .dataframe thead th {\n",
       "        text-align: right;\n",
       "    }\n",
       "</style>\n",
       "<table border=\"1\" class=\"dataframe\">\n",
       "  <thead>\n",
       "    <tr style=\"text-align: right;\">\n",
       "      <th></th>\n",
       "      <th>PC1</th>\n",
       "      <th>PC2</th>\n",
       "      <th>Y</th>\n",
       "    </tr>\n",
       "  </thead>\n",
       "  <tbody>\n",
       "    <tr>\n",
       "      <th>0</th>\n",
       "      <td>-2.264703</td>\n",
       "      <td>-0.480027</td>\n",
       "      <td>1</td>\n",
       "    </tr>\n",
       "    <tr>\n",
       "      <th>1</th>\n",
       "      <td>-2.080961</td>\n",
       "      <td>0.674134</td>\n",
       "      <td>1</td>\n",
       "    </tr>\n",
       "    <tr>\n",
       "      <th>2</th>\n",
       "      <td>-2.364229</td>\n",
       "      <td>0.341908</td>\n",
       "      <td>1</td>\n",
       "    </tr>\n",
       "    <tr>\n",
       "      <th>3</th>\n",
       "      <td>-2.299384</td>\n",
       "      <td>0.597395</td>\n",
       "      <td>1</td>\n",
       "    </tr>\n",
       "    <tr>\n",
       "      <th>4</th>\n",
       "      <td>-2.389842</td>\n",
       "      <td>-0.646835</td>\n",
       "      <td>1</td>\n",
       "    </tr>\n",
       "  </tbody>\n",
       "</table>\n",
       "</div>"
      ],
      "text/plain": [
       "        PC1       PC2  Y\n",
       "0 -2.264703 -0.480027  1\n",
       "1 -2.080961  0.674134  1\n",
       "2 -2.364229  0.341908  1\n",
       "3 -2.299384  0.597395  1\n",
       "4 -2.389842 -0.646835  1"
      ]
     },
     "execution_count": 17,
     "metadata": {},
     "output_type": "execute_result"
    }
   ],
   "source": [
    "projected1 = X_scaled.dot(vectors.T[0])\n",
    "projected2 = X_scaled.dot(vectors.T[1])\n",
    "res = pd.DataFrame(projected1, columns = ['PC1'])\n",
    "res['PC2'] = projected2\n",
    "res['Y'] = y\n",
    "res.head()"
   ]
  },
  {
   "cell_type": "code",
   "execution_count": 18,
   "id": "ea16b4a8",
   "metadata": {},
   "outputs": [
    {
     "data": {
      "image/png": "[encoded data removed]",
      "text/plain": [
       "<Figure size 474.375x432 with 1 Axes>"
      ]
     },
     "metadata": {
      "needs_background": "light"
     },
     "output_type": "display_data"
    }
   ],
   "source": [
    "sns.FacetGrid(res, hue = \"Y\", height = 6).map(plt.scatter, 'PC1', 'PC2').add_legend()\n",
    "plt.show()"
   ]
  },
  {
   "cell_type": "code",
   "execution_count": null,
   "id": "9b1d0662",
   "metadata": {},
   "outputs": [],
   "source": []
  }
 ],
 "metadata": {
  "kernelspec": {
   "display_name": "Python 3 (ipykernel)",
   "language": "python",
   "name": "python3"
  },
  "language_info": {
   "codemirror_mode": {
    "name": "ipython",
    "version": 3
   },
   "file_extension": ".py",
   "mimetype": "text/x-python",
   "name": "python",
   "nbconvert_exporter": "python",
   "pygments_lexer": "ipython3",
   "version": "3.10.6"
  }
 },
 "nbformat": 4,
 "nbformat_minor": 5
}
