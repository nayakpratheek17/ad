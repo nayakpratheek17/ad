{
 "cells": [
  {
   "cell_type": "code",
   "execution_count": 1,
   "id": "70147e83",
   "metadata": {},
   "outputs": [],
   "source": [
    "array = [115.3, 195.5, 120.5, 110.2, 90.4, 105.6, 110.9, 116.3, 122.3, 125.4, 116.3]"
   ]
  },
  {
   "cell_type": "code",
   "execution_count": 2,
   "id": "eca370d9",
   "metadata": {},
   "outputs": [
    {
     "name": "stdout",
     "output_type": "stream",
     "text": [
      "120.7909090909091\n"
     ]
    }
   ],
   "source": [
    "def meanVal(array):\n",
    "    result = 0\n",
    "    for i in range(len(array)):\n",
    "        result += array[i]\n",
    "       \n",
    "    return result / len(array)\n",
    "print(meanVal(array))"
   ]
  },
  {
   "cell_type": "code",
   "execution_count": 3,
   "id": "5ee606a1",
   "metadata": {},
   "outputs": [
    {
     "name": "stdout",
     "output_type": "stream",
     "text": [
      "116.3\n"
     ]
    }
   ],
   "source": [
    "def medianVal(array):\n",
    "    array.sort()\n",
    "    n = len(array);\n",
    "    if n % 2 == 0:\n",
    "        return array[int(n/2) - 1]\n",
    "    else:\n",
    "        return array[int(n/2)]\n",
    "    \n",
    "print(medianVal(array))"
   ]
  },
  {
   "cell_type": "code",
   "execution_count": 4,
   "id": "c59b1f48",
   "metadata": {},
   "outputs": [
    {
     "name": "stdout",
     "output_type": "stream",
     "text": [
      "116.3\n"
     ]
    }
   ],
   "source": [
    "def modeVal(array):\n",
    "    a = []\n",
    "    for i in range(len(array)):\n",
    "        if array[i] not in a:\n",
    "            a.append(array[i])\n",
    "        else:\n",
    "            return array[i]\n",
    "print(modeVal(array))"
   ]
  },
  {
   "cell_type": "code",
   "execution_count": 5,
   "id": "e00067d9",
   "metadata": {},
   "outputs": [
    {
     "name": "stdout",
     "output_type": "stream",
     "text": [
      "639.99173553719\n"
     ]
    }
   ],
   "source": [
    "def variance(array):\n",
    "    answer = meanVal(array)\n",
    "    sum1 = 0\n",
    "    for i in array:\n",
    "        sum1 += (answer - i) ** 2\n",
    "       \n",
    "    return sum1 / len(array)\n",
    "print(variance(array))"
   ]
  },
  {
   "cell_type": "code",
   "execution_count": 6,
   "id": "aad4a453",
   "metadata": {},
   "outputs": [
    {
     "name": "stdout",
     "output_type": "stream",
     "text": [
      "25.298057940031484\n"
     ]
    }
   ],
   "source": [
    "def standardDeviation(array):\n",
    "    return variance(array) ** 0.5\n",
    "print(standardDeviation(array))"
   ]
  },
  {
   "cell_type": "code",
   "execution_count": 7,
   "id": "6230c002",
   "metadata": {},
   "outputs": [
    {
     "name": "stdout",
     "output_type": "stream",
     "text": [
      "[0.0, 0.14462416745956222, 0.18839200761179828, 0.1950523311132255, 0.23691722169362506, 0.24643196955280677, 0.24643196955280677, 0.2863939105613701, 0.3035204567078972, 0.3330161750713606, 1.0]\n"
     ]
    }
   ],
   "source": [
    "def normalization(array):\n",
    "    a = []\n",
    "    for i in range(len(array)):\n",
    "        sum1 = ((array[i] - min(array)) / (max(array) - min(array)))\n",
    "        a.append(sum1)\n",
    "    return a\n",
    "\n",
    "print(normalization(array))"
   ]
  },
  {
   "cell_type": "code",
   "execution_count": 8,
   "id": "36b9d0a7",
   "metadata": {},
   "outputs": [
    {
     "name": "stdout",
     "output_type": "stream",
     "text": [
      "[-1.201313917572253, -0.6004772827589693, -0.4186451432760014, -0.39097503509381054, -0.21704864080575495, -0.17751991483119678, -0.17751991483119678, -0.011499265738052376, 0.05965244101615221, 0.18219149153728287, 2.95315518235381]\n"
     ]
    }
   ],
   "source": [
    "def standardisation(array):\n",
    "    a = []\n",
    "    meanValue = meanVal(array)\n",
    "    stdDev = standardDeviation(array)\n",
    "    for i in range(len(array)):\n",
    "        sum1 = ((array[i] -meanValue))/ stdDev\n",
    "        a.append(sum1)\n",
    "    return a\n",
    "print(standardisation(array))"
   ]
  },
  {
   "cell_type": "code",
   "execution_count": null,
   "id": "6bfd74f7",
   "metadata": {},
   "outputs": [],
   "source": []
  },
  {
   "cell_type": "code",
   "execution_count": null,
   "id": "9d0ae4e4",
   "metadata": {},
   "outputs": [],
   "source": []
  }
 ],
 "metadata": {
  "kernelspec": {
   "display_name": "Python 3 (ipykernel)",
   "language": "python",
   "name": "python3"
  },
  "language_info": {
   "codemirror_mode": {
    "name": "ipython",
    "version": 3
   },
   "file_extension": ".py",
   "mimetype": "text/x-python",
   "name": "python",
   "nbconvert_exporter": "python",
   "pygments_lexer": "ipython3",
   "version": "3.10.6"
  }
 },
 "nbformat": 4,
 "nbformat_minor": 5
}
