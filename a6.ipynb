{
 "cells": [
  {
   "cell_type": "code",
   "execution_count": 14,
   "id": "1690bd8e",
   "metadata": {},
   "outputs": [],
   "source": [
    "import pandas as pd\n",
    "import numpy as np\n",
    "from sklearn.model_selection import train_test_split\n",
    "from sklearn import preprocessing\n",
    "from sklearn.preprocessing import StandardScaler\n",
    "from sklearn.model_selection import KFold"
   ]
  },
  {
   "cell_type": "code",
   "execution_count": 15,
   "id": "1a0e8384",
   "metadata": {},
   "outputs": [],
   "source": [
    "colNames = ['UnivMarks', 'SchoolMarks', 'Admission']\n",
    "df = pd.read_csv(r'/home/nayak_pratheek17/Desktop/College Material/ML/MachineLearningLab/A6.csv', header = None, names = colNames)"
   ]
  },
  {
   "cell_type": "code",
   "execution_count": 16,
   "id": "64b73776",
   "metadata": {},
   "outputs": [
    {
     "data": {
      "text/html": [
       "<div>\n",
       "<style scoped>\n",
       "    .dataframe tbody tr th:only-of-type {\n",
       "        vertical-align: middle;\n",
       "    }\n",
       "\n",
       "    .dataframe tbody tr th {\n",
       "        vertical-align: top;\n",
       "    }\n",
       "\n",
       "    .dataframe thead th {\n",
       "        text-align: right;\n",
       "    }\n",
       "</style>\n",
       "<table border=\"1\" class=\"dataframe\">\n",
       "  <thead>\n",
       "    <tr style=\"text-align: right;\">\n",
       "      <th></th>\n",
       "      <th>UnivMarks</th>\n",
       "      <th>SchoolMarks</th>\n",
       "      <th>Admission</th>\n",
       "    </tr>\n",
       "  </thead>\n",
       "  <tbody>\n",
       "    <tr>\n",
       "      <th>0</th>\n",
       "      <td>34.623660</td>\n",
       "      <td>78.024693</td>\n",
       "      <td>0</td>\n",
       "    </tr>\n",
       "    <tr>\n",
       "      <th>1</th>\n",
       "      <td>30.286711</td>\n",
       "      <td>43.894998</td>\n",
       "      <td>0</td>\n",
       "    </tr>\n",
       "    <tr>\n",
       "      <th>2</th>\n",
       "      <td>35.847409</td>\n",
       "      <td>72.902198</td>\n",
       "      <td>0</td>\n",
       "    </tr>\n",
       "    <tr>\n",
       "      <th>3</th>\n",
       "      <td>60.182599</td>\n",
       "      <td>86.308552</td>\n",
       "      <td>1</td>\n",
       "    </tr>\n",
       "    <tr>\n",
       "      <th>4</th>\n",
       "      <td>79.032736</td>\n",
       "      <td>75.344376</td>\n",
       "      <td>1</td>\n",
       "    </tr>\n",
       "    <tr>\n",
       "      <th>...</th>\n",
       "      <td>...</td>\n",
       "      <td>...</td>\n",
       "      <td>...</td>\n",
       "    </tr>\n",
       "    <tr>\n",
       "      <th>95</th>\n",
       "      <td>83.489163</td>\n",
       "      <td>48.380286</td>\n",
       "      <td>1</td>\n",
       "    </tr>\n",
       "    <tr>\n",
       "      <th>96</th>\n",
       "      <td>42.261701</td>\n",
       "      <td>87.103851</td>\n",
       "      <td>1</td>\n",
       "    </tr>\n",
       "    <tr>\n",
       "      <th>97</th>\n",
       "      <td>99.315009</td>\n",
       "      <td>68.775409</td>\n",
       "      <td>1</td>\n",
       "    </tr>\n",
       "    <tr>\n",
       "      <th>98</th>\n",
       "      <td>55.340018</td>\n",
       "      <td>64.931938</td>\n",
       "      <td>1</td>\n",
       "    </tr>\n",
       "    <tr>\n",
       "      <th>99</th>\n",
       "      <td>74.775893</td>\n",
       "      <td>89.529813</td>\n",
       "      <td>1</td>\n",
       "    </tr>\n",
       "  </tbody>\n",
       "</table>\n",
       "<p>100 rows × 3 columns</p>\n",
       "</div>"
      ],
      "text/plain": [
       "    UnivMarks  SchoolMarks  Admission\n",
       "0   34.623660    78.024693          0\n",
       "1   30.286711    43.894998          0\n",
       "2   35.847409    72.902198          0\n",
       "3   60.182599    86.308552          1\n",
       "4   79.032736    75.344376          1\n",
       "..        ...          ...        ...\n",
       "95  83.489163    48.380286          1\n",
       "96  42.261701    87.103851          1\n",
       "97  99.315009    68.775409          1\n",
       "98  55.340018    64.931938          1\n",
       "99  74.775893    89.529813          1\n",
       "\n",
       "[100 rows x 3 columns]"
      ]
     },
     "execution_count": 16,
     "metadata": {},
     "output_type": "execute_result"
    }
   ],
   "source": [
    "df"
   ]
  },
  {
   "cell_type": "code",
   "execution_count": 17,
   "id": "77125431",
   "metadata": {},
   "outputs": [],
   "source": [
    "x = df.iloc[:, [0, 1]].values\n",
    "y = df.iloc[:, 2].values"
   ]
  },
  {
   "cell_type": "code",
   "execution_count": 18,
   "id": "a2314df2",
   "metadata": {},
   "outputs": [],
   "source": [
    "p = preprocessing.scale(x)"
   ]
  },
  {
   "cell_type": "code",
   "execution_count": 19,
   "id": "ef5ff1e9",
   "metadata": {},
   "outputs": [],
   "source": [
    "kf = KFold(n_splits = 5)"
   ]
  },
  {
   "cell_type": "code",
   "execution_count": 20,
   "id": "3e8fa755",
   "metadata": {},
   "outputs": [],
   "source": [
    "for trainIndex, testIndex in kf.split(p):\n",
    "    xtrain, xtest, ytrain, ytest = train_test_split(p, y, test_size = 0.2, random_state = 0)\n",
    "    x1 = xtrain[:, 0]\n",
    "    x2 = xtrain[:, 1]\n",
    "    b0 = 0\n",
    "    b1 = 0\n",
    "    b2 = 0\n",
    "    epoch = 10000\n",
    "    alpha = 0.001\n",
    "    while(epoch > 0):\n",
    "        for i in range(len(xtrain)):\n",
    "            prediction = 1 / (1 + np.exp(-(b0 + b1 * x1[i] + b2 * x2[i])))\n",
    "            b0 = b0 + alpha * (ytrain[i] - prediction) * prediction * (1 - prediction) * 1.0\n",
    "            b1 = b1 + alpha * (ytrain[i] - prediction) * prediction * (1 - prediction) * x1[i]\n",
    "            b2 = b2 + alpha * (ytrain[i] - prediction) * prediction * (1 - prediction) * x2[i]\n",
    "            epoch -= 1\n",
    "           "
   ]
  },
  {
   "cell_type": "code",
   "execution_count": 21,
   "id": "dc7a4e05",
   "metadata": {},
   "outputs": [
    {
     "name": "stdout",
     "output_type": "stream",
     "text": [
      "0.16701973288386196 0.4868177427484464 0.4948075155845019\n"
     ]
    }
   ],
   "source": [
    "print(b0, b1, b2)"
   ]
  },
  {
   "cell_type": "code",
   "execution_count": 22,
   "id": "cc32e633",
   "metadata": {},
   "outputs": [
    {
     "name": "stdout",
     "output_type": "stream",
     "text": [
      "[1 0 0 0 1 1 1 1 0 1 0 0 0 1 1 1 0 1 1 1]\n"
     ]
    }
   ],
   "source": [
    "finalPrediction = []\n",
    "x3 = xtest[:, 0]\n",
    "x4 = xtest[:, 1]\n",
    "print(ytest)"
   ]
  },
  {
   "cell_type": "code",
   "execution_count": 23,
   "id": "bf21af36",
   "metadata": {},
   "outputs": [],
   "source": [
    "ypred = [0] * len(xtest)"
   ]
  },
  {
   "cell_type": "code",
   "execution_count": 24,
   "id": "5a9ada78",
   "metadata": {},
   "outputs": [],
   "source": [
    "for i in range(len(xtest)):\n",
    "    ypred[i] = np.round(1 / (1 + np.exp(-(b0 + b1 * x3[i] + b2 * x4[i]))))\n",
    "    finalPrediction.append(np.ceil(ypred[i]))"
   ]
  },
  {
   "cell_type": "code",
   "execution_count": 25,
   "id": "e24c4a55",
   "metadata": {},
   "outputs": [
    {
     "name": "stdout",
     "output_type": "stream",
     "text": [
      "[0.0, 0.0, 0.0, 0.0, 1.0, 1.0, 0.0, 1.0, 0.0, 1.0, 0.0, 0.0, 0.0, 1.0, 0.0, 1.0, 0.0, 1.0, 0.0, 1.0]\n"
     ]
    }
   ],
   "source": [
    "print(finalPrediction)"
   ]
  },
  {
   "cell_type": "code",
   "execution_count": 26,
   "id": "02597a49",
   "metadata": {},
   "outputs": [
    {
     "name": "stdout",
     "output_type": "stream",
     "text": [
      "0.8\n"
     ]
    }
   ],
   "source": [
    "from sklearn.metrics import accuracy_score\n",
    "print(accuracy_score(ytest, ypred))"
   ]
  },
  {
   "cell_type": "code",
   "execution_count": null,
   "id": "224a22dd",
   "metadata": {},
   "outputs": [],
   "source": []
  }
 ],
 "metadata": {
  "kernelspec": {
   "display_name": "Python 3 (ipykernel)",
   "language": "python",
   "name": "python3"
  },
  "language_info": {
   "codemirror_mode": {
    "name": "ipython",
    "version": 3
   },
   "file_extension": ".py",
   "mimetype": "text/x-python",
   "name": "python",
   "nbconvert_exporter": "python",
   "pygments_lexer": "ipython3",
   "version": "3.10.6"
  }
 },
 "nbformat": 4,
 "nbformat_minor": 5
}
